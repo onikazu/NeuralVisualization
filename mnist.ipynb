{
 "cells": [
  {
   "cell_type": "code",
   "execution_count": 1,
   "metadata": {},
   "outputs": [],
   "source": [
    "# http://pytorch.org/tutorials/beginner/blitz/cifar10_tutorial.html#sphx-glr-beginner-blitz-cifar10-tutorial-py\n",
    "# http://pytorch.org/docs/master/torchvision/datasets.html#mnist\n",
    "\n",
    "import matplotlib.pyplot as plt\n",
    "%matplotlib inline"
   ]
  },
  {
   "cell_type": "code",
   "execution_count": 2,
   "metadata": {},
   "outputs": [],
   "source": [
    "import torchvision.transforms as transforms\n",
    "from torch.utils.data import DataLoader\n",
    "from torchvision.datasets import MNIST\n",
    "\n",
    "batch_size = 2\n",
    "# データセットをダウンロード\n",
    "mnist_data = MNIST('./', train=True, download=True, transform=transforms.ToTensor())\n",
    "data_loader = DataLoader(mnist_data,\n",
    "                         batch_size=batch_size,\n",
    "                         shuffle=False)"
   ]
  },
  {
   "cell_type": "code",
   "execution_count": 3,
   "metadata": {},
   "outputs": [],
   "source": [
    "# 中身を見てみる\n",
    "data_iter = iter(data_loader)\n",
    "images, labels = data_iter.next()"
   ]
  },
  {
   "cell_type": "code",
   "execution_count": 4,
   "metadata": {},
   "outputs": [
    {
     "name": "stdout",
     "output_type": "stream",
     "text": [
      "Label: tensor(5)\n"
     ]
    },
    {
     "data": {
      "image/png": "[encoded data removed]",
      "text/plain": [
       "<Figure size 432x288 with 1 Axes>"
      ]
     },
     "metadata": {},
     "output_type": "display_data"
    }
   ],
   "source": [
    "# matplotlibで1つ目のデータを可視化してみる\n",
    "npimg = images[0].numpy()\n",
    "npimg = npimg.reshape((28, 28))\n",
    "plt.imshow(npimg, cmap='gray')\n",
    "print('Label:', labels[0])"
   ]
  },
  {
   "cell_type": "code",
   "execution_count": 5,
   "metadata": {},
   "outputs": [],
   "source": [
    "# 訓練データとテストデータを用意\n",
    "train_data = MNIST('./', train=True, download=True, transform=transforms.ToTensor())\n",
    "train_loader = DataLoader(mnist_data,\n",
    "                         batch_size=batch_size,\n",
    "                         shuffle=True)\n",
    "test_data = MNIST('./', train=False, download=True, transform=transforms.ToTensor())\n",
    "test_loader = DataLoader(test_data,\n",
    "                         batch_size=batch_size,\n",
    "                         shuffle=False)"
   ]
  },
  {
   "cell_type": "code",
   "execution_count": 6,
   "metadata": {},
   "outputs": [],
   "source": [
    "# ニューラルネットワークを定義\n",
    "from torch.autograd import Variable\n",
    "import torch.nn as nn\n",
    "import torch.nn.functional as F\n",
    "\n",
    "\"\"\"\n",
    "class Net(nn.Module):\n",
    "    def __init__(self):\n",
    "        super().__init__()\n",
    "        self.l1 = nn.Linear(28 * 28, 50)\n",
    "        self.l2 = nn.Linear(50, 10)\n",
    "        \n",
    "    def forward(self, x):\n",
    "        x = x.view(-1, 28 * 28)\n",
    "        x = self.l1(x)\n",
    "        x = self.l2(x)\n",
    "        return x\n",
    "\"\"\"\n",
    "\"\"\"\n",
    "class Net(nn.Module):\n",
    "    def __init__(self):\n",
    "        super().__init__()\n",
    "        l1 = nn.Linear(28 * 28, 50)\n",
    "        l2 = nn.Linear(50, 10)\n",
    "        features = [l1, l2]\n",
    "        self.features = nn.ModuleList(features).eval()\n",
    "    \n",
    "    def forward(self, x):\n",
    "        results = []\n",
    "        for ii , model in enumerate(self.features):\n",
    "            x = model(x)\n",
    "            results.append(x)\n",
    "        return results\n",
    "\"\"\"\n",
    "class Net(nn.Module):\n",
    "    def __init__(self):\n",
    "        super().__init__()\n",
    "        self.l1 = nn.Linear(28 * 28, 50)\n",
    "        self.l2 = nn.Linear(50, 10)\n",
    "        \n",
    "    def forward(self, x):\n",
    "        result = []\n",
    "        x = x.view(-1, 28 * 28)\n",
    "        x = self.l1(x)\n",
    "        result.append(x)\n",
    "        x = self.l2(x)\n",
    "        result.append(x)\n",
    "        return result \n",
    "        \n",
    "\n",
    "\n",
    "net = Net()"
   ]
  },
  {
   "cell_type": "code",
   "execution_count": 7,
   "metadata": {},
   "outputs": [],
   "source": [
    "# コスト関数と最適化手法を定義\n",
    "import torch.optim as optim\n",
    "\n",
    "criterion = nn.CrossEntropyLoss()\n",
    "optimizer = optim.SGD(net.parameters(), lr=0.01)"
   ]
  },
  {
   "cell_type": "code",
   "execution_count": 9,
   "metadata": {},
   "outputs": [
    {
     "name": "stdout",
     "output_type": "stream",
     "text": [
      "1 5000 loss: 1.485\n"
     ]
    },
    {
     "name": "stdout",
     "output_type": "stream",
     "text": [
      "1 10000 loss: 1.499\n"
     ]
    },
    {
     "name": "stdout",
     "output_type": "stream",
     "text": [
      "1 15000 loss: 1.511\n"
     ]
    },
    {
     "name": "stdout",
     "output_type": "stream",
     "text": [
      "1 20000 loss: 1.483\n"
     ]
    },
    {
     "name": "stdout",
     "output_type": "stream",
     "text": [
      "1 25000 loss: 1.500\n"
     ]
    },
    {
     "name": "stdout",
     "output_type": "stream",
     "text": [
      "1 30000 loss: 1.464\n"
     ]
    },
    {
     "name": "stdout",
     "output_type": "stream",
     "text": [
      "2 5000 loss: 1.447\n"
     ]
    },
    {
     "name": "stdout",
     "output_type": "stream",
     "text": [
      "2 10000 loss: 1.473\n"
     ]
    },
    {
     "name": "stdout",
     "output_type": "stream",
     "text": [
      "2 15000 loss: 1.421\n"
     ]
    },
    {
     "name": "stdout",
     "output_type": "stream",
     "text": [
      "2 20000 loss: 1.454\n"
     ]
    },
    {
     "name": "stdout",
     "output_type": "stream",
     "text": [
      "2 25000 loss: 1.546\n"
     ]
    },
    {
     "name": "stdout",
     "output_type": "stream",
     "text": [
      "2 30000 loss: 1.468\n"
     ]
    },
    {
     "name": "stdout",
     "output_type": "stream",
     "text": [
      "3 5000 loss: 1.400\n"
     ]
    },
    {
     "name": "stdout",
     "output_type": "stream",
     "text": [
      "3 10000 loss: 1.356\n"
     ]
    },
    {
     "name": "stdout",
     "output_type": "stream",
     "text": [
      "3 15000 loss: 1.441\n"
     ]
    },
    {
     "name": "stdout",
     "output_type": "stream",
     "text": [
      "3 20000 loss: 1.544\n"
     ]
    },
    {
     "name": "stdout",
     "output_type": "stream",
     "text": [
      "3 25000 loss: 1.500\n"
     ]
    },
    {
     "name": "stdout",
     "output_type": "stream",
     "text": [
      "3 30000 loss: 1.470\nFinished Training\n"
     ]
    }
   ],
   "source": [
    "for epoch in range(3):\n",
    "    running_loss = 0.0\n",
    "    for i, data in enumerate(train_loader):\n",
    "        inputs, labels = data\n",
    "        \n",
    "        # Variableに変換\n",
    "        inputs, labels = Variable(inputs), Variable(labels)\n",
    "        \n",
    "        # 勾配情報をリセット\n",
    "        optimizer.zero_grad()\n",
    "        \n",
    "        # 順伝播\n",
    "        outputs = net(inputs)[-1]\n",
    "        \n",
    "        # ロスの計算\n",
    "        loss = criterion(outputs, labels)\n",
    "        \n",
    "        # 逆伝播\n",
    "        loss.backward()\n",
    "        \n",
    "        # パラメータの更新\n",
    "        optimizer.step()\n",
    "        \n",
    "        running_loss += loss.item()\n",
    "        \n",
    "        if i % 5000 == 4999:\n",
    "            print('%d %d loss: %.3f' % (epoch + 1, i + 1, running_loss / 1000))\n",
    "            running_loss = 0.0\n",
    "            \n",
    "print('Finished Training')"
   ]
  },
  {
   "cell_type": "code",
   "execution_count": 10,
   "metadata": {},
   "outputs": [
    {
     "name": "stdout",
     "output_type": "stream",
     "text": [
      "Accuracy 9215 / 10000 = 0.000000\n"
     ]
    }
   ],
   "source": [
    "import torch\n",
    "\n",
    "correct = 0\n",
    "total = 0\n",
    "for data in test_loader:\n",
    "    inputs, labels = data\n",
    "    outputs = net(Variable(inputs))[-1]\n",
    "    _, predicted = torch.max(outputs.data, 1)\n",
    "    total += labels.size(0)\n",
    "    correct += (predicted == labels).sum()\n",
    "    \n",
    "print('Accuracy %d / %d = %f' % (correct, total, correct / total))"
   ]
  },
  {
   "cell_type": "code",
   "execution_count": 12,
   "metadata": {
    "scrolled": true
   },
   "outputs": [
    {
     "name": "stdout",
     "output_type": "stream",
     "text": [
      "Label: tensor(7)\n"
     ]
    },
    {
     "data": {
      "image/png": "[encoded data removed]",
      "text/plain": [
       "<Figure size 432x288 with 1 Axes>"
      ]
     },
     "metadata": {},
     "output_type": "display_data"
    }
   ],
   "source": [
    "test_iter = iter(test_loader)\n",
    "inputs, labels = test_iter.next()\n",
    "outputs = net(Variable(inputs))\n",
    "_, predicted = torch.max(outputs[-1].data, 1)\n",
    "\n",
    "plt.imshow(inputs[0].numpy().reshape(28, 28), cmap='gray')\n",
    "print('Label:', predicted[0])"
   ]
  },
  {
   "cell_type": "markdown",
   "metadata": {},
   "source": [
    "## モデルのパラメータ"
   ]
  },
  {
   "cell_type": "code",
   "execution_count": 13,
   "metadata": {},
   "outputs": [
    {
     "data": {
      "text/plain": [
       "OrderedDict([('l1.weight',\n              tensor([[-0.0253,  0.0209, -0.0085,  ..., -0.0151, -0.0153,  0.0191],\n                      [ 0.0115,  0.0089, -0.0258,  ..., -0.0312,  0.0327, -0.0339],\n                      [ 0.0139, -0.0205,  0.0219,  ..., -0.0139,  0.0179, -0.0068],\n                      ...,\n                      [-0.0270,  0.0344,  0.0026,  ..., -0.0123, -0.0232,  0.0273],\n                      [ 0.0083,  0.0017,  0.0279,  ...,  0.0061, -0.0117,  0.0150],\n                      [ 0.0180,  0.0212, -0.0243,  ...,  0.0207,  0.0265, -0.0018]])),\n             ('l1.bias',\n              tensor([-0.1493,  0.4183, -0.1449, -0.2421,  0.1941, -0.4093,  0.1630,  0.2022,\n                      -0.5520, -0.2854, -0.1448,  0.2979, -0.6491, -0.6032, -0.1244, -0.3652,\n                      -0.5688, -0.0542,  0.0148,  0.2777,  0.2756, -0.4582, -0.4746, -0.6879,\n                      -0.4765,  0.0179,  0.0734,  0.1856, -0.0467,  0.1836,  0.1440,  0.1437,\n                      -0.1264, -0.3403, -0.0386,  0.1117, -0.2114, -0.1595,  0.4739,  0.3713,\n                       0.5554,  0.0218, -0.2004, -0.4911,  0.0374, -0.1586,  0.1643, -0.1680,\n                       0.0608, -0.0276])),\n             ('l2.weight',\n              tensor([[ 0.1682,  0.3998,  0.2078,  0.0735,  0.3960, -0.0589, -0.0087,  0.1722,\n                        0.3096, -0.0719,  0.1396,  0.0510,  0.3314, -0.1331, -0.1028, -0.0489,\n                        0.2127, -0.2729,  0.1037, -0.0670,  0.1825,  0.0170, -0.2045,  0.0890,\n                        0.0327, -0.2165,  0.3255, -0.3875,  0.4779,  0.4185,  0.4233,  0.2060,\n                        0.3851,  0.3122,  0.0697,  0.1104, -0.4235, -0.0309, -0.2347, -0.3439,\n                       -0.1402,  0.0485, -0.3261,  0.4925,  0.0114, -0.0985,  0.0233,  0.1401,\n                        0.0035,  0.3454],\n                      [-0.2624,  0.3032,  0.1311, -0.6272, -0.2163, -0.4228,  0.1448,  0.3865,\n                       -0.3057,  0.2517, -0.1553, -0.1843, -0.0993, -0.1936,  0.1885, -0.0807,\n                       -0.4213,  0.4085, -0.5708, -0.0432, -0.0737, -0.0109, -0.3449, -0.1851,\n                       -0.2296,  0.2630,  0.1132,  0.2190,  0.0011, -0.2765, -0.2955, -0.4388,\n                       -0.1627, -0.2778,  0.2440,  0.0345,  0.3339, -0.3064, -0.3070,  0.5057,\n                       -0.4780,  0.1399, -0.3506, -0.2468, -0.1981, -0.1569,  0.0981,  0.0581,\n                        0.2940,  0.4471],\n                      [-0.0139, -0.1231,  0.1595,  0.0633, -0.0169,  0.1061, -0.0546, -0.1014,\n                       -0.1118, -0.3288, -0.0774,  0.0616, -0.0161,  0.0910, -0.2511, -0.1799,\n                        0.2020,  0.3442, -0.1238, -0.0908, -0.0009, -0.1877,  0.3456,  0.1523,\n                        0.1733,  0.2855,  0.2404, -0.2037,  0.3138, -0.0390,  0.1876,  0.1906,\n                        0.1415, -0.2372,  0.0893,  0.2113,  0.1248,  0.3891, -0.2880,  0.3555,\n                        0.1094, -0.0706, -0.1080,  0.2354, -0.0966, -0.2369, -0.1564, -0.2585,\n                        0.3344, -0.1796],\n                      [-0.0904, -0.1479,  0.0615,  0.2256, -0.1891,  0.0466, -0.2738, -0.0504,\n                       -0.2302, -0.0282, -0.3633,  0.2289,  0.1962, -0.0590,  0.0997,  0.0216,\n                        0.4207, -0.0635, -0.2363, -0.1239,  0.0303,  0.0722,  0.2176,  0.1630,\n                        0.0927,  0.0516,  0.1978, -0.0337,  0.2194, -0.0893, -0.1717, -0.3087,\n                        0.3256,  0.0114,  0.0488, -0.0629,  0.0929, -0.1449,  0.3322, -0.1881,\n                        0.0671, -0.0774,  0.0200, -0.1628,  0.1862,  0.0051,  0.1855, -0.1486,\n                        0.1401, -0.3675],\n                      [ 0.0360,  0.1714,  0.0089, -0.1441, -0.2393, -0.1427,  0.3037, -0.3912,\n                        0.0570,  0.1260,  0.3211,  0.1284, -0.1198, -0.2388,  0.0313, -0.1923,\n                       -0.1334, -0.4488,  0.3341, -0.3087,  0.1759,  0.2637, -0.0832,  0.1561,\n                        0.1820, -0.1973, -0.3854,  0.0789, -0.3578, -0.0371,  0.0717,  0.0461,\n                       -0.4677, -0.1828,  0.0331, -0.2636, -0.0878, -0.1175,  0.1586,  0.0663,\n                        0.2978, -0.1358, -0.0982,  0.0471,  0.0086,  0.1511, -0.3958,  0.1834,\n                       -0.2945,  0.0968],\n                      [ 0.2472,  0.1668,  0.0531,  0.3011, -0.0477, -0.2134,  0.0798, -0.1911,\n                       -0.2068, -0.1190, -0.1683,  0.2690, -0.0825, -0.1402, -0.0132, -0.0554,\n                        0.2744, -0.0308,  0.1842,  0.2530, -0.0825, -0.2605,  0.0111, -0.2616,\n                       -0.2890, -0.1997, -0.0970,  0.1010,  0.0963, -0.2900,  0.2753, -0.1476,\n                        0.4107,  0.1638,  0.0462,  0.2269, -0.3171, -0.1649,  0.3099, -0.2594,\n                        0.2186,  0.0929, -0.0565, -0.2534, -0.1415, -0.2176,  0.3111, -0.0689,\n                       -0.0634, -0.2578],\n                      [ 0.0774,  0.1879,  0.0332,  0.0132, -0.1313, -0.3087, -0.1493,  0.0345,\n                        0.0635, -0.3086,  0.2804, -0.1940,  0.2129,  0.0314,  0.1181, -0.2107,\n                       -0.0664, -0.0964, -0.1940, -0.0328, -0.3083, -0.0046, -0.1098, -0.1733,\n                        0.2312,  0.2507,  0.0600,  0.1466, -0.1071, -0.1202,  0.1014,  0.6003,\n                       -0.2243,  0.2025,  0.3617, -0.0457, -0.2974,  0.2788, -0.4039, -0.0387,\n                       -0.1252,  0.2638,  0.1352,  0.2608, -0.3851, -0.1244, -0.1053,  0.1518,\n                       -0.0155, -0.3030],\n                      [-0.2976, -0.2744, -0.0055, -0.0921,  0.3924,  0.2789,  0.0562,  0.3696,\n                        0.0649,  0.2816,  0.1327,  0.1137, -0.2076, -0.2287, -0.2114,  0.3419,\n                       -0.5490, -0.0046,  0.2189,  0.2473,  0.1787,  0.0493, -0.2231, -0.1047,\n                       -0.0200, -0.2750,  0.0446,  0.3259, -0.2657,  0.5212, -0.3749, -0.0146,\n                       -0.1405, -0.0195, -0.3440, -0.3107, -0.2220,  0.0090,  0.2471,  0.2058,\n                        0.2425, -0.1913,  0.2993, -0.1209,  0.4040, -0.1498,  0.0188,  0.1242,\n                        0.0667,  0.0226],\n                      [ 0.1736, -0.2122,  0.1681,  0.1551, -0.1900,  0.1243,  0.0809, -0.2112,\n                        0.1634,  0.2046,  0.0305, -0.0189,  0.1795,  0.2685,  0.0223,  0.2313,\n                        0.3411,  0.2374,  0.1595,  0.0848, -0.2198,  0.1456,  0.3063,  0.2439,\n                        0.0856, -0.1858, -0.2177,  0.0765, -0.0184, -0.3372, -0.0461, -0.3591,\n                        0.2516,  0.1243, -0.0401,  0.0657, -0.0401,  0.0272, -0.1610, -0.0844,\n                       -0.1482,  0.0118,  0.0886,  0.0946, -0.1706, -0.1307,  0.0189,  0.0529,\n                        0.0453, -0.0912],\n                      [-0.0020, -0.3101, -0.1071,  0.0737, -0.0274,  0.2513,  0.1752,  0.0187,\n                        0.0723,  0.2798,  0.0320, -0.2111, -0.0865,  0.1276, -0.2439,  0.2645,\n                       -0.1667, -0.2116,  0.3035, -0.2312, -0.0618, -0.1248,  0.0690, -0.0207,\n                       -0.1441, -0.1131, -0.1578,  0.2083, -0.3493,  0.0468, -0.0513,  0.0302,\n                       -0.1940,  0.1890, -0.0715, -0.0306,  0.2638, -0.0637,  0.2045, -0.2257,\n                       -0.1165, -0.2970,  0.2043, -0.1386,  0.3103,  0.1107, -0.1684,  0.0238,\n                       -0.2930,  0.1799]])),\n             ('l2.bias',\n              tensor([-0.6543, -0.0964,  0.3393, -0.0788, -0.1211,  1.0889, -0.2709,  0.1274,\n                      -0.3070,  0.1348]))])"
      ]
     },
     "execution_count": 13,
     "metadata": {},
     "output_type": "execute_result"
    }
   ],
   "source": [
    "net.state_dict()"
   ]
  },
  {
   "cell_type": "code",
   "execution_count": 14,
   "metadata": {},
   "outputs": [
    {
     "name": "stdout",
     "output_type": "stream",
     "text": [
      "[tensor([[-0.9345, -2.8194, -0.1076,  1.7164,  2.5551,  3.6856, -0.7404,  0.2815,\n          0.7459,  0.8644, -0.5280,  2.1950, -0.2528, -0.4930, -1.4909,  2.2611,\n          0.7013, -0.4296,  2.2300,  1.1574,  1.8148,  0.8713,  0.9056,  1.4795,\n          0.6134, -2.3216,  0.6827, -0.3175,  0.6002,  3.2347, -1.3936, -1.4105,\n          1.6923,  0.0535, -3.0620, -1.3513, -1.0643,  0.2707,  2.9757, -0.5376,\n          2.8273, -1.8292,  1.5670, -0.3347,  3.5176, -0.2267,  0.6913, -0.4770,\n          0.5490, -1.2954],\n        [ 1.9483,  0.3092,  1.3623,  2.4379, -1.3846, -0.7516, -2.5465, -1.0207,\n         -0.9236, -3.9366, -2.4810, -0.1427,  2.7703,  2.6778,  0.4053, -1.5932,\n          5.6889,  3.7129, -2.9750,  0.4085, -2.3200, -1.8269,  3.3408,  0.7031,\n          0.6249,  3.2133,  2.8800, -2.7476,  4.9950, -3.2677,  2.5939,  0.4411,\n          4.8498,  0.5942,  2.4129,  3.6772,  0.3999,  2.5068, -3.2368, -0.7109,\n         -1.8589,  1.8948, -1.2778,  2.0353, -3.2767, -1.7179,  1.7729, -2.3717,\n          2.8135, -3.0093]], grad_fn=<AddmmBackward>), tensor([[  0.2274, -13.5330,  -0.9966,   5.1284,  -1.2347,   1.7256, -11.0073,\n          12.9228,   0.8305,   4.2818],\n        [  6.1323,  -1.5150,  17.7691,   9.1722, -17.4892,   8.5368,   8.0278,\n         -22.3888,   7.2951, -13.3113]], grad_fn=<AddmmBackward>)]\n"
     ]
    }
   ],
   "source": [
    "test_iter = iter(test_loader)\n",
    "inputs, labels = test_iter.next()\n",
    "outputs = net(Variable(inputs))\n",
    "\n",
    "print(outputs)"
   ]
  },
  {
   "cell_type": "code",
   "execution_count": 15,
   "metadata": {},
   "outputs": [
    {
     "name": "stdout",
     "output_type": "stream",
     "text": [
      "2\n2\n50\n"
     ]
    }
   ],
   "source": [
    "print(len(outputs))  # num_layer\n",
    "print(len(outputs[0])) # batch_num\n",
    "print(len(outputs[0][0])) # num_output_node\n"
   ]
  },
  {
   "cell_type": "code",
   "execution_count": null,
   "metadata": {},
   "outputs": [],
   "source": []
  }
 ],
 "metadata": {
  "kernelspec": {
   "display_name": "Python 3",
   "language": "python",
   "name": "python3"
  },
  "language_info": {
   "codemirror_mode": {
    "name": "ipython",
    "version": 3
   },
   "file_extension": ".py",
   "mimetype": "text/x-python",
   "name": "python",
   "nbconvert_exporter": "python",
   "pygments_lexer": "ipython3",
   "version": "3.5.2"
  }
 },
 "nbformat": 4,
 "nbformat_minor": 2
}
